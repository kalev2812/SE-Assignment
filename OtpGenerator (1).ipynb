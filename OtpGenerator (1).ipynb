{
  "nbformat": 4,
  "nbformat_minor": 0,
  "metadata": {
    "colab": {
      "provenance": []
    },
    "kernelspec": {
      "name": "python3",
      "display_name": "Python 3"
    },
    "language_info": {
      "name": "python"
    }
  },
  "cells": [
    {
      "cell_type": "code",
      "execution_count": null,
      "metadata": {
        "colab": {
          "base_uri": "https://localhost:8080/"
        },
        "id": "vr4nLc_Z-0__",
        "outputId": "145edf00-0f33-452b-810c-7f1c5e6b5772"
      },
      "outputs": [
        {
          "output_type": "stream",
          "name": "stdout",
          "text": [
            "6289\n"
          ]
        }
      ],
      "source": [
        "import random;\n",
        "import smtplib;\n",
        "server =smtplib.SMTP('smtp.gmail.com',587)\n",
        "#print(server)\n",
        "server.starttls()\n",
        "server.login('vbkale0014@gmail.com',password= \"zcal dvtg kmac sfil\")\n",
        "otp=''.join([str(random.randint(0,9))for i in range(4)])\n",
        "msg='Hello, your otp is '+str(otp)\n",
        "server.sendmail('vbkale00142007@gmail.com','vidyakale2812@gmail.com',msg)\n",
        "server.quit()\n",
        "print(otp)"
      ]
    },
    {
      "cell_type": "code",
      "source": [],
      "metadata": {
        "id": "OGWFT5n3DBjH"
      },
      "execution_count": null,
      "outputs": []
    }
  ]
}